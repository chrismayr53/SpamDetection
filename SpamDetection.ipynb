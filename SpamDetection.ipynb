{
 "cells": [
  {
   "cell_type": "markdown",
   "id": "45a241d8",
   "metadata": {},
   "source": [
    "# SMS Spam Detection"
   ]
  },
  {
   "cell_type": "markdown",
   "id": "bbb3d897",
   "metadata": {},
   "source": [
    "In most cases spam is just annoing. In some cases it can cause a lot of damage, especially when someone is distracted. Even if people are aware of spam, it can be very harmfull for various reasons. \n",
    "Hence, each spam SMS detected before it reaches it's destination can help people to suffer from the consequences.\n",
    "\n",
    "\n",
    "Tiago Almeida and Jos Hidalgo provide a Data set with lots of example data from SMS which are spam or not. \n",
    "\n"
   ]
  },
  {
   "cell_type": "markdown",
   "id": "b0a57414",
   "metadata": {},
   "source": [
    "## Data Set collection\n",
    "\n",
    "The dataset was collected by Tiago Almeida and Jos Hidalgo. They were contributing the data set to the following website:\n",
    "https://archive.ics.uci.edu/dataset/228/sms+spam+collection\n",
    "\n",
    "\n",
    "The following part was copied from the readme file and explains how the data is composed.\n",
    "\n",
    "This corpus has been collected from free or free for research sources at the Web:\n",
    "\n",
    "- A collection of between 425 SMS spam messages extracted manually from the Grumbletext Web site. This is a UK forum in which cell phone users make public claims about SMS spam messages, most of them without reporting the very spam message received. The identification of the text of spam messages in the claims is a very hard and time-consuming task, and it involved carefully scanning hundreds of web pages. The Grumbletext Web site is: http://www.grumbletext.co.uk/\n",
    "- A list of 450 SMS ham messages collected from Caroline Tag's PhD Theses available at http://etheses.bham.ac.uk/253/1/Tagg09PhD.pdf\n",
    "- A subset of 3,375 SMS ham messages of the NUS SMS Corpus (NSC), which is a corpus of about 10,000 legitimate messages collected for research at the Department of Computer Science at the National University of Singapore. The messages largely originate from Singaporeans and mostly from students attending the University. These messages were collected from volunteers who were made aware that their contributions were going to be made publicly available. The NUS SMS Corpus is avalaible at: http://www.comp.nus.edu.sg/~rpnlpir/downloads/corpora/smsCorpus/\n",
    "- The amount of 1,002 SMS ham messages and 322 spam messages extracted from the SMS Spam Corpus v.0.1 Big created by José María Gómez Hidalgo and public available at: http://www.esp.uem.es/jmgomez/smsspamcorpus/\n",
    "\n",
    "\n",
    "## Reference Study\n",
    "\n",
    "We offer a comprehensive study of this corpus in the following paper that is under review. This work presents a number of statistics, studies and baseline results for several machine learning methods.\n",
    "\n",
    "[1] Almeida, T.A., Gómez Hidalgo, J.M., Yamakami, A. Contributions to the study of SMS Spam Filtering: New Collection and Results. Proceedings of the 2011 ACM Symposium on Document Engineering (ACM DOCENG'11), Mountain View, CA, USA, 2011. (Under review)"
   ]
  },
  {
   "cell_type": "markdown",
   "id": "d87ef330",
   "metadata": {},
   "source": [
    "## EDA"
   ]
  },
  {
   "cell_type": "markdown",
   "id": "fa5feac0",
   "metadata": {},
   "source": [
    "### Load libraries"
   ]
  },
  {
   "cell_type": "code",
   "execution_count": 28,
   "id": "58f51894",
   "metadata": {},
   "outputs": [],
   "source": [
    "import pandas as pd\n",
    "import matplotlib.pyplot as plt\n",
    "import numpy as np\n",
    "from sklearn.feature_extraction.text import TfidfVectorizer\n",
    "from sklearn.model_selection import train_test_split\n",
    "from sklearn.cluster import AgglomerativeClustering\n",
    "from sklearn.cluster import KMeans\n",
    "from sklearn.linear_model import LogisticRegression\n",
    "\n",
    "from sklearn.metrics import accuracy_score\n",
    "from sklearn.metrics import confusion_matrix\n",
    "from sklearn.metrics import ConfusionMatrixDisplay\n",
    "from sklearn.model_selection import GridSearchCV"
   ]
  },
  {
   "cell_type": "markdown",
   "id": "34cc0a3e",
   "metadata": {},
   "source": [
    "### Load the data"
   ]
  },
  {
   "cell_type": "markdown",
   "id": "57d5e042",
   "metadata": {},
   "source": [
    "At first, I want to import the data."
   ]
  },
  {
   "cell_type": "code",
   "execution_count": 4,
   "id": "e0204b4e",
   "metadata": {},
   "outputs": [
    {
     "name": "stdout",
     "output_type": "stream",
     "text": [
      "     label                                               Text\n",
      "0      ham  Go until jurong point, crazy.. Available only ...\n",
      "1      ham                      Ok lar... Joking wif u oni...\n",
      "2     spam  Free entry in 2 a wkly comp to win FA Cup fina...\n",
      "3      ham  U dun say so early hor... U c already then say...\n",
      "4      ham  Nah I don't think he goes to usf, he lives aro...\n",
      "...    ...                                                ...\n",
      "5567  spam  This is the 2nd time we have tried 2 contact u...\n",
      "5568   ham               Will ü b going to esplanade fr home?\n",
      "5569   ham  Pity, * was in mood for that. So...any other s...\n",
      "5570   ham  The guy did some bitching but I acted like i'd...\n",
      "5571   ham                         Rofl. Its true to its name\n",
      "\n",
      "[5572 rows x 2 columns]\n"
     ]
    }
   ],
   "source": [
    "\n",
    "df_spam = pd.read_csv(\"SMSSpamCollection\", sep='\\t', header=None, names=['label', 'Text'])\n",
    "\n",
    "print(df_spam)"
   ]
  },
  {
   "cell_type": "markdown",
   "id": "60244c00",
   "metadata": {},
   "source": [
    "The file contains 5572 lines with data. The data column specifies wheater the SMS is spam, or not. The text column contains the text message sent by the user.\n",
    "\n",
    "Since the website already confirms, that there is no missing data, I will not check for that.\n",
    "\n",
    "Next, I will take a look at the length of the messages."
   ]
  },
  {
   "cell_type": "code",
   "execution_count": 5,
   "id": "253590d1",
   "metadata": {},
   "outputs": [
    {
     "data": {
      "image/png": "[encoded data removed]",
      "text/plain": [
       "<Figure size 640x480 with 1 Axes>"
      ]
     },
     "metadata": {},
     "output_type": "display_data"
    }
   ],
   "source": [
    "df_wordcount = df_spam['Text'].str.split().str.len()\n",
    "\n",
    "plt.hist(df_wordcount, bins=100)\n",
    "plt.xlabel('Number of Words')\n",
    "plt.ylabel('SMS count')\n",
    "plt.title('Word count per SMS')\n",
    "plt.show()"
   ]
  },
  {
   "cell_type": "markdown",
   "id": "0c8c6d90",
   "metadata": {},
   "source": [
    "In the histogram one can see that there are a few SMS consting of more than 50 words.\n",
    "\n",
    "They can be considered outliers and thus will be examined more closely.\n",
    "I will separate them from the other data set and count how many of them are spam or ham.\n"
   ]
  },
  {
   "cell_type": "code",
   "execution_count": 6,
   "id": "2b72e2dd",
   "metadata": {},
   "outputs": [
    {
     "name": "stdout",
     "output_type": "stream",
     "text": [
      "Number of labels specified as ham: \n",
      "label\n",
      "ham    63\n",
      "Name: count, dtype: int64\n",
      "\n",
      "\n",
      "     label                                               Text\n",
      "53     ham  Wow. I never realized that you were so embaras...\n",
      "155    ham  You are everywhere dirt, on the floor, the win...\n",
      "381    ham  I guess that's why you re worried. You must kn...\n",
      "551    ham  Imagine you finally get to sink into that bath...\n",
      "711    ham  Height of Confidence: All the Aeronautics prof...\n",
      "...    ...                                                ...\n",
      "5129   ham  Rose for red,red for blood,blood for heart,hea...\n",
      "5209   ham  I know you are thinkin malaria. But relax, chi...\n",
      "5264   ham  Storming msg: Wen u lift d phne, u say \"HELLO\"...\n",
      "5515   ham  You are a great role model. You are giving so ...\n",
      "5535   ham  I know you are thinkin malaria. But relax, chi...\n",
      "\n",
      "[63 rows x 2 columns]\n"
     ]
    }
   ],
   "source": [
    "mask = df_wordcount > 50\n",
    "df_MuchText = df_spam.where(mask).dropna(how='all')\n",
    "\n",
    "count = df_MuchText['label'].value_counts(sort=False)\n",
    "print('Number of labels specified as ham: ')\n",
    "print(count)\n",
    "print('\\n')\n",
    "print(df_MuchText)\n"
   ]
  },
  {
   "cell_type": "markdown",
   "id": "2eb11ae4",
   "metadata": {},
   "source": [
    "All of these longer SMS are ham. \n",
    "\n",
    "Now I want to take a look if there is a correlation between the word length and the label. "
   ]
  },
  {
   "cell_type": "code",
   "execution_count": 7,
   "id": "76fbadcc",
   "metadata": {},
   "outputs": [
    {
     "data": {
      "image/png": "[encoded data removed]",
      "text/plain": [
       "<Figure size 640x480 with 2 Axes>"
      ]
     },
     "metadata": {},
     "output_type": "display_data"
    }
   ],
   "source": [
    "# Separate the ham and spam\n",
    "df_ham = df_spam[df_spam['label'] == 'ham']\n",
    "df_spamOnly = df_spam[df_spam['label'] == 'spam']\n",
    "# Create Wordcounts\n",
    "df_wordcount_ham = df_ham['Text'].str.split().str.len()\n",
    "df_wordcount_spam = df_spamOnly['Text'].str.split().str.len()\n",
    "\n",
    "# Create fist\n",
    "plt.subplot(1, 2, 1)\n",
    "plt.hist(df_wordcount_ham, bins=100)\n",
    "plt.xlabel('Number of Words')\n",
    "plt.ylabel('SMS count')\n",
    "plt.title('ham')\n",
    "# Create second plot\n",
    "plt.subplot(1, 2, 2)\n",
    "plt.hist(df_wordcount_spam, bins=100)\n",
    "plt.xlabel('Number of Words')\n",
    "plt.title('spam')\n",
    "# display plot\n",
    "plt.show()"
   ]
  },
  {
   "cell_type": "markdown",
   "id": "912c7714",
   "metadata": {},
   "source": [
    "The two histograms do not support the suspicion that the word count correlates wheater the SMS is spam or not."
   ]
  },
  {
   "cell_type": "markdown",
   "id": "c88147c8",
   "metadata": {},
   "source": [
    "## Model building and training"
   ]
  },
  {
   "cell_type": "markdown",
   "id": "55f47421",
   "metadata": {},
   "source": [
    "In my opinion agglomerative clustering should yield a very good result. This is why I want to try this algorithm to predict weather a SMS is spam or not.<br>\n",
    "In this project I want to include 2 otheer learning methods to compare them with the agglomerative approach. The other unsupervised approaches is k means clustering. To compare it with a supervised method i will also create a logistic regression. We learned about it in the previous course. \n"
   ]
  },
  {
   "cell_type": "markdown",
   "id": "29ea9f1d",
   "metadata": {},
   "source": [
    "### Preprocess the data"
   ]
  },
  {
   "cell_type": "markdown",
   "id": "87963611",
   "metadata": {},
   "source": [
    "I will convert the label to binary data and the text to features the models can work with. To get the features I will use Tfidf vectorizer."
   ]
  },
  {
   "cell_type": "code",
   "execution_count": 11,
   "id": "a2973f88",
   "metadata": {},
   "outputs": [
    {
     "data": {
      "text/plain": [
       "(5572,)"
      ]
     },
     "execution_count": 11,
     "metadata": {},
     "output_type": "execute_result"
    }
   ],
   "source": [
    "# Replace ham with 0 and spam with 1 using mapping\n",
    "\n",
    "mapping = {\n",
    "    'ham' : 0,\n",
    "    'spam' : 1\n",
    "}\n",
    "\n",
    "y_spam = df_spam['label'].map(mapping)\n",
    "\n",
    "#y_spam.head()\n",
    "y_spam.shape"
   ]
  },
  {
   "cell_type": "code",
   "execution_count": 12,
   "id": "fb4e29b6",
   "metadata": {},
   "outputs": [
    {
     "data": {
      "text/plain": [
       "(5572, 8444)"
      ]
     },
     "execution_count": 12,
     "metadata": {},
     "output_type": "execute_result"
    }
   ],
   "source": [
    "# Use tf-idf features for NMF.\n",
    "tfidf_vectorizer = TfidfVectorizer(stop_words=\"english\")\n",
    "\n",
    "# get the article-feature matrix\n",
    "x_spam = tfidf_vectorizer.fit_transform(df_spam['Text']).toarray()\n",
    "x_spam.shape"
   ]
  },
  {
   "cell_type": "code",
   "execution_count": 15,
   "id": "4c854a5a",
   "metadata": {},
   "outputs": [],
   "source": [
    "X_train, X_test, y_train, y_test = train_test_split(x_spam, y_spam, test_size=0.2, random_state=42)"
   ]
  },
  {
   "cell_type": "markdown",
   "id": "ad492aaa",
   "metadata": {},
   "source": [
    "### Agglomerative Clustering"
   ]
  },
  {
   "cell_type": "code",
   "execution_count": null,
   "id": "cacd2504",
   "metadata": {},
   "outputs": [],
   "source": [
    "model = AgglomerativeClustering()\n",
    "\n",
    "\n",
    "param_grid = {\n",
    "    'n_clusters': [2],\n",
    "    'linkage': ['ward', 'complete', 'average', 'singe']\n",
    "}\n",
    "\n",
    "# Set up GridSearchCV\n",
    "grid_search = GridSearchCV(estimator=model, param_grid=param_grid, \n",
    "                           cv=5, scoring='accuracy', n_jobs=-1)\n",
    "\n",
    "# Fit grid search\n",
    "grid_search.fit(X_train, y_train)\n",
    "\n",
    "# Best parameters and best score\n",
    "print(\"Best parameters:\", grid_search.best_params_)\n",
    "print(\"Best score:\", grid_search.best_score_)"
   ]
  },
  {
   "cell_type": "code",
   "execution_count": 44,
   "id": "7185de71",
   "metadata": {},
   "outputs": [
    {
     "name": "stdout",
     "output_type": "stream",
     "text": [
      "Accuracy score:  0.8573991031390135\n"
     ]
    },
    {
     "data": {
      "image/png": "[encoded data removed]",
      "text/plain": [
       "<Figure size 640x480 with 2 Axes>"
      ]
     },
     "metadata": {},
     "output_type": "display_data"
    }
   ],
   "source": [
    "clustering = AgglomerativeClustering(n_clusters=2, linkage='ward').fit(X_train)\n",
    "\n",
    "y_pred_agg = clustering.fit_predict(X_test)\n",
    "\n",
    "# Calculate accuracy score\n",
    "acc_nmf = accuracy_score(y_test, y_pred_agg)\n",
    "print(\"Accuracy score: \", acc_nmf)\n",
    "\n",
    "# Create and display confusion matrix\n",
    "cm = confusion_matrix(y_test, y_pred_agg)\n",
    "disp = ConfusionMatrixDisplay(confusion_matrix = cm)\n",
    "disp.plot(cmap=plt.cm.Blues)\n",
    "plt.title('Confusion Matrix Agglomerative clustering')\n",
    "plt.show()\n"
   ]
  },
  {
   "cell_type": "markdown",
   "id": "77391f96",
   "metadata": {},
   "source": [
    "### K means"
   ]
  },
  {
   "cell_type": "code",
   "execution_count": null,
   "id": "fac7ee9a",
   "metadata": {},
   "outputs": [
    {
     "name": "stdout",
     "output_type": "stream",
     "text": [
      "Best parameters: {'algorithm': 'elkan', 'init': 'k-means++', 'n_clusters': 2}\n",
      "Best score: 0.8406813526394992\n"
     ]
    }
   ],
   "source": [
    "model = KMeans()\n",
    "\n",
    "param_grid = {\n",
    "    'n_clusters': [2],\n",
    "    'init': ['k-means++', 'random'],\n",
    "    'algorithm': ['lloyd', 'elkan']\n",
    "}\n",
    "\n",
    "# Set up GridSearchCV\n",
    "grid_search = GridSearchCV(estimator=model, param_grid=param_grid, \n",
    "                           cv=5, scoring='accuracy', n_jobs=-1)\n",
    "\n",
    "# Fit grid search\n",
    "grid_search.fit(X_train, y_train)\n",
    "\n",
    "# Best parameters and best score\n",
    "print(\"Best parameters:\", grid_search.best_params_)\n",
    "print(\"Best score:\", grid_search.best_score_)"
   ]
  },
  {
   "cell_type": "code",
   "execution_count": 42,
   "id": "42538a7d",
   "metadata": {},
   "outputs": [
    {
     "name": "stdout",
     "output_type": "stream",
     "text": [
      "Accuracy score:  0.8762331838565023\n"
     ]
    },
    {
     "data": {
      "image/png": "[encoded data removed]",
      "text/plain": [
       "<Figure size 640x480 with 2 Axes>"
      ]
     },
     "metadata": {},
     "output_type": "display_data"
    }
   ],
   "source": [
    "clustering = KMeans(n_clusters=2, init='k-means++', algorithm='elkan', random_state=42).fit(X_train)\n",
    "\n",
    "y_pred_kme = clustering.fit_predict(X_test)\n",
    "\n",
    "# Calculate accuracy score\n",
    "acc_nmf = accuracy_score(y_test, y_pred_kme)\n",
    "print(\"Accuracy score: \", acc_nmf)\n",
    "\n",
    "# Create and display confusion matrix\n",
    "cm = confusion_matrix(y_test, y_pred_kme)\n",
    "disp = ConfusionMatrixDisplay(confusion_matrix = cm)\n",
    "disp.plot(cmap=plt.cm.Blues)\n",
    "plt.title('Confusion Matrix K-means clustering')\n",
    "plt.show()"
   ]
  },
  {
   "cell_type": "markdown",
   "id": "8d4b9073",
   "metadata": {},
   "source": [
    "### Logistic Regression"
   ]
  },
  {
   "cell_type": "code",
   "execution_count": 31,
   "id": "98dbbb42",
   "metadata": {},
   "outputs": [
    {
     "name": "stdout",
     "output_type": "stream",
     "text": [
      "Best parameters: {'C': 1.0, 'penalty': 'l1', 'solver': 'liblinear'}\n",
      "Best score: 0.9477231205930756\n"
     ]
    }
   ],
   "source": [
    "model = LogisticRegression()\n",
    "\n",
    "param_grid = {\n",
    "    'penalty': ['l1', 'l2'],\n",
    "    'C': [1.0, 0.8, 0.6],\n",
    "    'solver': ['liblinear', 'saga']\n",
    "}\n",
    "\n",
    "# Set up GridSearchCV\n",
    "grid_search = GridSearchCV(estimator=model, param_grid=param_grid, \n",
    "                           cv=5, scoring='accuracy', n_jobs=-1)\n",
    "\n",
    "# Fit grid search\n",
    "grid_search.fit(X_train, y_train)\n",
    "\n",
    "# Best parameters and best score\n",
    "print(\"Best parameters:\", grid_search.best_params_)\n",
    "print(\"Best score:\", grid_search.best_score_)"
   ]
  },
  {
   "cell_type": "code",
   "execution_count": 45,
   "id": "8f4eb7cc",
   "metadata": {},
   "outputs": [
    {
     "name": "stdout",
     "output_type": "stream",
     "text": [
      "Accuracy score:  0.9659192825112107\n"
     ]
    },
    {
     "data": {
      "image/png": "[encoded data removed]",
      "text/plain": [
       "<Figure size 640x480 with 2 Axes>"
      ]
     },
     "metadata": {},
     "output_type": "display_data"
    }
   ],
   "source": [
    "clustering = LogisticRegression(penalty='l1', C=1.0, solver='liblinear').fit(X_train, y_train)\n",
    "\n",
    "y_pred_LoRe = clustering.predict(X_test)\n",
    "\n",
    "# Calculate accuracy score\n",
    "acc_nmf = accuracy_score(y_test, y_pred_LoRe)\n",
    "print(\"Accuracy score: \", acc_nmf)\n",
    "\n",
    "# Create and display confusion matrix\n",
    "cm = confusion_matrix(y_test, y_pred_LoRe)\n",
    "disp = ConfusionMatrixDisplay(confusion_matrix = cm)\n",
    "disp.plot(cmap=plt.cm.Blues)\n",
    "plt.title('Confusion Matrix Logistic Regression')\n",
    "plt.show()"
   ]
  },
  {
   "cell_type": "markdown",
   "id": "6a891a59",
   "metadata": {},
   "source": [
    "## Discussion"
   ]
  },
  {
   "cell_type": "markdown",
   "id": "17ebb5c9",
   "metadata": {},
   "source": [
    "The EDA has shown, that there is no correlation between the word count in a SMS and wheater it is spam or not. <br>\n",
    "\n",
    "In the preprocessing step we converted the labels into binary output and vectorized the text into a feature matrix.<br>\n",
    "\n",
    "#### Agglomerative Clustering\n",
    "In the beginning of this project I thought agglomerative clustering would be a very good idea to detect spam. Given the test results it is not good at all! <br>\n",
    "The Accuracy might be not too bad, but this is only due to the imbalanced data set. The model did not detect a single spam SMS.\n",
    "\n",
    "#### K-Means Clustering\n",
    "The accuracy of k-means is a bit better than agglomerative clustering. It also did detect most of the spam SMS.<br>\n",
    "On the downside it also misslabeled a lot of the ham SMS. If I would use this model in a real application this would be very annoing not to receive that many SMS that are in fact ok.\n",
    "For me this model is not suited for this case as well.\n",
    "\n",
    "#### Logistic regression\n",
    "As we were told in the previous course, supervised learning, Logistic regression is a good method to detect spam. <br>\n",
    "In this case it detected three quater of the actual spam SMS and only labeled less than 1% as spam where it wasn't.\n",
    "I would not consider this a very good model, but it is a good start for further feature development.\n"
   ]
  }
 ],
 "metadata": {
  "kernelspec": {
   "display_name": "Python 3",
   "language": "python",
   "name": "python3"
  },
  "language_info": {
   "codemirror_mode": {
    "name": "ipython",
    "version": 3
   },
   "file_extension": ".py",
   "mimetype": "text/x-python",
   "name": "python",
   "nbconvert_exporter": "python",
   "pygments_lexer": "ipython3",
   "version": "3.13.2"
  }
 },
 "nbformat": 4,
 "nbformat_minor": 5
}
